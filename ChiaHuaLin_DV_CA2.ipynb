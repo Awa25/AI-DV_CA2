{
 "cells": [
  {
   "cell_type": "markdown",
   "id": "cafe8e1e",
   "metadata": {},
   "source": [
    "# Question 1\n",
    "A puzzle has multiple ways of reaching the end solution. Fig. 1 shows a graph that represents all possible routes to the solution. The starting point of the game is represented by A, the solution is represented by S. The other points in the graph are possible intermediary stages.\n",
    "\n",
    "**(a) The graph in Fig. 1 is a visualisation of the problem.**\n",
    "- (i) Identify the differences between a graph and a tree. [0-5]    \n",
    "- (ii) Explain in detail how the graph is an abstraction of the problem. [0-5]\n",
    "- (iii) Identify the advantages of using a visualisation such as the one shown in Fig. 1. [0-5]\n",
    "    \n",
    "**(b) Demonstrate how Dijkstra’s algorithm would find the shortest path to the solution in Fig.1 through diagrams and written explanation of each stage. [0-25]**\n",
    "\n",
    "<img src=\"qqimg.png\" style=\"width:500px;\" align=\"left\" />"
   ]
  },
  {
   "cell_type": "markdown",
   "id": "3af119b4",
   "metadata": {},
   "source": [
    "### This is a test file, test the Jupyter can link to GitHub successfully..."
   ]
  },
  {
   "cell_type": "markdown",
   "id": "f6731e25",
   "metadata": {},
   "source": [
    "test"
   ]
  },
  {
   "cell_type": "code",
   "execution_count": null,
   "id": "f0769055",
   "metadata": {},
   "outputs": [],
   "source": []
  }
 ],
 "metadata": {
  "kernelspec": {
   "display_name": "Python 3 (ipykernel)",
   "language": "python",
   "name": "python3"
  },
  "language_info": {
   "codemirror_mode": {
    "name": "ipython",
    "version": 3
   },
   "file_extension": ".py",
   "mimetype": "text/x-python",
   "name": "python",
   "nbconvert_exporter": "python",
   "pygments_lexer": "ipython3",
   "version": "3.9.7"
  }
 },
 "nbformat": 4,
 "nbformat_minor": 5
}
