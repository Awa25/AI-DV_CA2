{
 "cells": [
  {
   "cell_type": "markdown",
   "id": "41dfc9f7",
   "metadata": {},
   "source": [
    "**<font size=5> Module Title: Artificial Intelligence </font>**\n",
    "\n",
    "**<font size=5> Assessment Title: Individual CA2 </font>**\n",
    "\n",
    "**<font size=4> Lecturer Name: David McQuaid </font>**\n",
    "\n",
    "**<font size=4> Student Name: Chia Hua Lin &emsp; &emsp; ID: 2020044 </font>**"
   ]
  },
  {
   "cell_type": "markdown",
   "id": "cafe8e1e",
   "metadata": {},
   "source": [
    "# Question 1\n",
    "A puzzle has multiple ways of reaching the end solution. Fig. 1 shows a graph that represents all possible routes to the solution. The starting point of the game is represented by A, the solution is represented by S. The other points in the graph are possible intermediary stages."
   ]
  },
  {
   "cell_type": "code",
   "execution_count": 1,
   "id": "f0769055",
   "metadata": {},
   "outputs": [
    {
     "data": {
      "text/html": [
       "<img src=\"https://github.com/Awa25/AI-DV_CA2/blob/main/qqimg.png?raw=true\" width=\"500\"/>"
      ],
      "text/plain": [
       "<IPython.core.display.Image object>"
      ]
     },
     "execution_count": 1,
     "metadata": {},
     "output_type": "execute_result"
    }
   ],
   "source": [
    "from IPython.display import Image\n",
    "from IPython.core.display import HTML \n",
    "Image(url= \"https://github.com/Awa25/AI-DV_CA2/blob/main/qqimg.png?raw=true\", width=500)"
   ]
  },
  {
   "cell_type": "markdown",
   "id": "7535b5fe",
   "metadata": {},
   "source": [
    "## (a) The graph in Fig. 1 is a visualisation of the problem."
   ]
  },
  {
   "cell_type": "markdown",
   "id": "06d9e2c9",
   "metadata": {},
   "source": [
    "### (i) Identify the differences between a graph and a tree\n",
    "- Definition: A tree is a special type of graph. A tree is an undirected graph in which any two nodes are connected by exactly one path, and there are no cycles. A graph, in contrast, can have any number of paths connecting nodes and can include cycles.\n",
    "- Nodes and Edges: In a tree, the number of edges is always one less than the number of nodes. In a generic graph, there can be any number of edges.\n",
    "- Root: Trees typically have a specific node called the \"root\" from which hierarchical structures descend. Graphs do not have a designated root.\n",
    "- Path: In a tree, there's exactly one unique path between any two nodes. In a graph, there can be multiple paths, or even none at all, between two nodes.\n",
    "- Cycles: Trees cannot have cycles, whereas cycles can be present in graphs.\n",
    "\n",
    "So Fig. 1 is a graph. It has cycles and multiple paths between nodes indicating it is not a tree, trees don't have cycles, and there are unique paths between any two nodes."
   ]
  },
  {
   "cell_type": "markdown",
   "id": "94cbe6ee",
   "metadata": {},
   "source": [
    "### (ii) Explain in detail how the graph is an abstraction of the problem."
   ]
  },
  {
   "cell_type": "markdown",
   "id": "14cffb29",
   "metadata": {},
   "source": [
    "### (iii) Identify the advantages of using a visualisation such as the one shown in Fig. 1.\n",
    "- Clarity: Visual representations provide a clear picture of the problem, helping in better understanding and interpretation.\n",
    "- Identifying Possibilities: By looking at the graph, one can immediately see possible routes and paths.\n",
    "- Problem Solving: Visuals can assist in employing algorithms or heuristics to find solutions.\n",
    "- Comparing Routes: By visualizing, it becomes easier to compare different routes in terms of their lengths or costs.\n",
    "- Communication: Visual representations like graphs can be easily shared and discussed among teams, making collaborative problem-solving more efficient."
   ]
  },
  {
   "cell_type": "markdown",
   "id": "4642a436",
   "metadata": {},
   "source": [
    "## (b)Demonstrate how Dijkstra’s algorithm would find the shortest path to the solution in Fig.1 through diagrams and written explanation of each stage."
   ]
  },
  {
   "cell_type": "code",
   "execution_count": 14,
   "id": "0284f525",
   "metadata": {},
   "outputs": [],
   "source": [
    "# Import necessary libraries\n",
    "import heapq  # Import the heapq module for heap-based data structures\n",
    "import matplotlib.pyplot as plt  # Import Matplotlib for plotting graphs\n",
    "import networkx as nx  # Import NetworkX, a library for working with networks and graphs\n",
    "import timeit         # Import the timeit library for measuring code execution time."
   ]
  },
  {
   "cell_type": "code",
   "execution_count": 15,
   "id": "38337a76",
   "metadata": {},
   "outputs": [
    {
     "data": {
      "text/plain": [
       "{'A': [('B', 1), ('C', 5), ('H', 2)],\n",
       " 'B': [('A', 1), ('C', 2), ('D', 4)],\n",
       " 'C': [('A', 5), ('B', 2), ('G', 1)],\n",
       " 'D': [('B', 4), ('E', 4), ('F', 7), ('L', 7)],\n",
       " 'E': [('D', 4), ('F', 3), ('W', 6)],\n",
       " 'F': [('D', 7), ('E', 3), ('G', 2)],\n",
       " 'G': [('C', 1), ('F', 2), ('L', 3)],\n",
       " 'H': [('A', 2), ('K', 5), ('J', 9)],\n",
       " 'J': [('H', 9), ('N', 6), ('K', 3)],\n",
       " 'K': [('H', 5), ('J', 3), ('L', 5)],\n",
       " 'L': [('K', 5), ('G', 3), ('D', 7), ('N', 3), ('M', 4), ('W', 8), ('V', 10)],\n",
       " 'M': [('L', 4), ('P', 2), ('Q', 10)],\n",
       " 'N': [('J', 6), ('L', 3), ('P', 4), ('S', 7)],\n",
       " 'P': [('N', 4), ('M', 2), ('R', 5)],\n",
       " 'Q': [('M', 10), ('W', 4), ('S', 8)],\n",
       " 'R': [('P', 5), ('T', 3), ('S', 4)],\n",
       " 'S': [('Q', 8), ('R', 4), ('N', 7), ('U', 2), ('V', 6), ('T', 4)],\n",
       " 'T': [('R', 3), ('S', 4), ('U', 1)],\n",
       " 'U': [('T', 1), ('S', 2), ('V', 3)],\n",
       " 'V': [('U', 3), ('S', 6), ('L', 10)],\n",
       " 'W': [('V', 5), ('L', 8), ('Q', 4), ('E', 6)]}"
      ]
     },
     "execution_count": 15,
     "metadata": {},
     "output_type": "execute_result"
    }
   ],
   "source": [
    "# Define the graph as a list of tuples with the given data\n",
    "data = [\n",
    "    (\"A\", \"B\", 1), (\"A\", \"C\", 5), (\"A\", \"H\", 2),\n",
    "    (\"B\", \"A\", 1), (\"B\", \"C\", 2), (\"B\", \"D\", 4),\n",
    "    (\"C\", \"A\", 5), (\"C\", \"B\", 2), (\"C\", \"G\", 1),\n",
    "    (\"D\", \"B\", 4), (\"D\", \"E\", 4), (\"D\", \"F\", 7), (\"D\", \"L\", 7),\n",
    "    (\"E\", \"D\", 4), (\"E\", \"F\", 3), (\"E\", \"W\", 6),\n",
    "    (\"F\", \"D\", 7), (\"F\", \"E\", 3), (\"F\", \"G\", 2),\n",
    "    (\"G\", \"C\", 1), (\"G\", \"F\", 2), (\"G\", \"L\", 3),\n",
    "    (\"H\", \"A\", 2), (\"H\", \"K\", 5), (\"H\", \"J\", 9),\n",
    "    (\"J\", \"H\", 9), (\"J\", \"N\", 6), (\"J\", \"K\", 3),\n",
    "    (\"K\", \"H\", 5), (\"K\", \"J\", 3), (\"K\", \"L\", 5),\n",
    "    (\"L\", \"K\", 5), (\"L\", \"G\", 3), (\"L\", \"D\", 7), (\"L\", \"N\", 3), (\"L\", \"M\", 4), (\"L\", \"W\", 8), (\"L\", \"V\", 10),\n",
    "    (\"M\", \"L\", 4), (\"M\", \"P\", 2), (\"M\", \"Q\", 10),\n",
    "    (\"N\", \"J\", 6), (\"N\", \"L\", 3), (\"N\", \"P\", 4), (\"N\", \"S\", 7),\n",
    "    (\"P\", \"N\", 4), (\"P\", \"M\", 2), (\"P\", \"R\", 5),\n",
    "    (\"Q\", \"M\", 10), (\"Q\", \"W\", 4), (\"Q\", \"S\", 8),\n",
    "    (\"R\", \"P\", 5), (\"R\", \"T\", 3), (\"R\", \"S\", 4),\n",
    "    (\"S\", \"Q\", 8), (\"S\", \"R\", 4), (\"S\", \"N\", 7), (\"S\", \"U\", 2), (\"S\", \"V\", 6), (\"S\", \"T\", 4),\n",
    "    (\"T\", \"R\", 3), (\"T\", \"S\", 4), (\"T\", \"U\", 1),\n",
    "    (\"U\", \"T\", 1), (\"U\", \"S\", 2), (\"U\", \"V\", 3),\n",
    "    (\"V\", \"U\", 3), (\"V\", \"S\", 6), (\"V\", \"L\", 10),\n",
    "    (\"W\", \"V\", 5), (\"W\", \"L\", 8), (\"W\", \"Q\", 4), (\"W\", \"E\", 6)\n",
    "]\n",
    "\n",
    "# Initialize an empty dictionary to store the graph\n",
    "graph = {}\n",
    "\n",
    "# Iterate over the list of tuples and populate the graph dictionary\n",
    "for node1, node2, cost in data:\n",
    "    if node1 not in graph:\n",
    "        graph[node1] = []\n",
    "    graph[node1].append((node2, cost))\n",
    "\n",
    "# Display the graph data\n",
    "graph"
   ]
  },
  {
   "cell_type": "code",
   "execution_count": 16,
   "id": "38ecb950",
   "metadata": {},
   "outputs": [],
   "source": [
    "# Fuction to perform Dijkstra's algorithm\n",
    "def dijkstra(graph, start_node):\n",
    "    \n",
    "    # Initialize distances and predecessors for all nodes in the graph\n",
    "    distances = {node: float(\"inf\") for node in graph}\n",
    "    predecessors = {node: None for node in graph}\n",
    "    \n",
    "    # Set the distance from the start_node to itself as 0\n",
    "    distances[start_node] = 0\n",
    "    \n",
    "    # Create a priority queue for nodes to be explored\n",
    "    # It stores tuples of (distance, node)\n",
    "    priority_queue = [(0, start_node)]\n",
    "    \n",
    "    # While there are nodes in the priority queue to explore\n",
    "    while priority_queue:\n",
    "        \n",
    "        # Get the node with the shortest distance from the priority queue\n",
    "        current_distance, current_node = heapq.heappop(priority_queue)\n",
    "        \n",
    "        # Skip this node if it has already been processed with a shorter distance\n",
    "        if current_distance > distances[current_node]:\n",
    "            continue\n",
    "            \n",
    "        # Iterate over neighbors of the current node\n",
    "        for neighbor, weight in graph[current_node]:\n",
    "            \n",
    "            # Calculate the total distance to the neighbor through the current node\n",
    "            distance = current_distance + weight\n",
    "            \n",
    "            # If a shorter path to the neighbor is found, update the distance and predecessor\n",
    "            if distance < distances[neighbor]:\n",
    "                distances[neighbor] = distance\n",
    "                predecessors[neighbor] = current_node\n",
    "                \n",
    "                # Add the neighbor to the priority queue for further exploration\n",
    "                heapq.heappush(priority_queue, (distance, neighbor))\n",
    "                \n",
    "    # Return the final distances and predecessors\n",
    "    return distances, predecessors"
   ]
  },
  {
   "cell_type": "code",
   "execution_count": 17,
   "id": "f9982f2b",
   "metadata": {},
   "outputs": [],
   "source": [
    "# Fuction to calculate the shortest path \n",
    "def shortest_path(graph, start_node, end_node):\n",
    "    \n",
    "    # Find the shortest path using Dijkstra's algorithm and get distances and predecessors\n",
    "    distances, predecessors = dijkstra(graph, start_node)\n",
    "    \n",
    "    # Reconstruct the path form end_node to start_node\n",
    "    path = []\n",
    "    while end_node is not None:\n",
    "        path.insert(0, end_node) # Insert the current node at the beginning of the path \n",
    "        end_node = predecessors[end_node] # Move to the predecessor\n",
    "        \n",
    "    # Return the reconstructed path and distances\n",
    "    return path, distances\n",
    "\n",
    "# Define the starting and ending nodes for the shortest path\n",
    "start_node = \"A\"\n",
    "end_node = \"S\""
   ]
  },
  {
   "cell_type": "code",
   "execution_count": 18,
   "id": "ba510d77",
   "metadata": {},
   "outputs": [
    {
     "data": {
      "text/plain": [
       "(['A', 'B', 'C', 'G', 'L', 'N', 'S'], 17)"
      ]
     },
     "execution_count": 18,
     "metadata": {},
     "output_type": "execute_result"
    }
   ],
   "source": [
    "# Calculate the shortest path and distances\n",
    "path, distances = shortest_path(graph, start_node, end_node)\n",
    "\n",
    "# Display the result\n",
    "path, distances[end_node]"
   ]
  },
  {
   "cell_type": "code",
   "execution_count": 23,
   "id": "c2ec005b",
   "metadata": {},
   "outputs": [
    {
     "data": {
      "image/png": "[encoded data removed]",
      "text/plain": [
       "<Figure size 432x288 with 1 Axes>"
      ]
     },
     "metadata": {},
     "output_type": "display_data"
    }
   ],
   "source": [
    "# Create a NetworkX graph\n",
    "G = nx.Graph()\n",
    "\n",
    "# Add nodes and edges to the graph\n",
    "for node, connections in graph.items():\n",
    "    for neighbor, cost in connections:\n",
    "        G.add_edge(node, neighbor, weight = cost)\n",
    "\n",
    "# Create a layout for the nodes\n",
    "pos = nx.spring_layout(G)\n",
    "\n",
    "# Calculate the shortest path\n",
    "shortest_path_nodes = path  # Get this from your code\n",
    "shortest_path_edges = [(shortest_path_nodes[i], shortest_path_nodes[i + 1]) for i in range(len(shortest_path_nodes) - 1)]\n",
    "\n",
    "# Highlight the shortest path by changing edge color\n",
    "edge_colors = ['b' if edge not in shortest_path_edges else 'r' for edge in G.edges()]\n",
    "\n",
    "# Draw the nodes, edges, and labels\n",
    "nx.draw_networkx_nodes(G, pos)\n",
    "nx.draw_networkx_edges(G, pos, edge_color = edge_colors, width = 2)\n",
    "nx.draw_networkx_labels(G, pos)\n",
    "\n",
    "# Draw the edge labels\n",
    "edge_labels = {(node, neighbor): cost for node, neighbor, cost in G.edges(data = 'weight')}\n",
    "nx.draw_networkx_edge_labels(G, pos, edge_labels = edge_labels)\n",
    "\n",
    "# Show the graph\n",
    "plt.axis('off')\n",
    "plt.title(\"Graph with Shortest Path Highlighted\")\n",
    "plt.show()"
   ]
  },
  {
   "cell_type": "markdown",
   "id": "8f7db091",
   "metadata": {},
   "source": [
    "# Question 2\n",
    "The creator of the puzzle has been told that the A* algorithm is more efficient at finding the shortest path because it uses heuristics. Compare the performance of Dijkstra’s algorithm and the A* search algorithm, referring to heuristics, to find the shortest path to the problem by implementing both algorithms programmatically and comparing the solutions generated in Mark-down. Refer to the complexity of the algorithms and compare the actual time it takes for the solutions to be processed."
   ]
  },
  {
   "cell_type": "code",
   "execution_count": null,
   "id": "da2f8263",
   "metadata": {},
   "outputs": [],
   "source": []
  },
  {
   "cell_type": "code",
   "execution_count": null,
   "id": "67c1c665",
   "metadata": {},
   "outputs": [],
   "source": []
  },
  {
   "cell_type": "code",
   "execution_count": null,
   "id": "1f6873cd",
   "metadata": {},
   "outputs": [],
   "source": []
  }
 ],
 "metadata": {
  "kernelspec": {
   "display_name": "Python 3 (ipykernel)",
   "language": "python",
   "name": "python3"
  },
  "language_info": {
   "codemirror_mode": {
    "name": "ipython",
    "version": 3
   },
   "file_extension": ".py",
   "mimetype": "text/x-python",
   "name": "python",
   "nbconvert_exporter": "python",
   "pygments_lexer": "ipython3",
   "version": "3.9.7"
  }
 },
 "nbformat": 4,
 "nbformat_minor": 5
}
