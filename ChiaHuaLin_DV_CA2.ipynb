{
 "cells": [
  {
   "cell_type": "markdown",
   "id": "cafe8e1e",
   "metadata": {},
   "source": [
    "# Question 1\n",
    "A puzzle has multiple ways of reaching the end solution. Fig. 1 shows a graph that represents all possible routes to the solution. The starting point of the game is represented by A, the solution is represented by S. The other points in the graph are possible intermediary stages."
   ]
  },
  {
   "cell_type": "code",
   "execution_count": 1,
   "id": "f0769055",
   "metadata": {},
   "outputs": [
    {
     "data": {
      "text/html": [
       "<img src=\"https://github.com/Awa25/AI-DV_CA2/blob/main/qqimg.png?raw=true\" width=\"500\"/>"
      ],
      "text/plain": [
       "<IPython.core.display.Image object>"
      ]
     },
     "execution_count": 1,
     "metadata": {},
     "output_type": "execute_result"
    }
   ],
   "source": [
    "from IPython.display import Image\n",
    "from IPython.core.display import HTML \n",
    "Image(url= \"https://github.com/Awa25/AI-DV_CA2/blob/main/qqimg.png?raw=true\", width=500)"
   ]
  },
  {
   "cell_type": "markdown",
   "id": "7535b5fe",
   "metadata": {},
   "source": [
    "### (a) The graph in Fig. 1 is a visualisation of the problem.\n",
    "#### (i) Identify the differences between a graph and a tree\n",
    "- Definition: A tree is a special type of graph. A tree is an undirected graph in which any two nodes are connected by exactly one path, and there are no cycles. A graph, in contrast, can have any number of paths connecting nodes and can include cycles.\n",
    "- Nodes and Edges: In a tree, the number of edges is always one less than the number of nodes. In a generic graph, there can be any number of edges.\n",
    "- Root: Trees typically have a specific node called the \"root\" from which hierarchical structures descend. Graphs do not have a designated root.\n",
    "- Path: In a tree, there's exactly one unique path between any two nodes. In a graph, there can be multiple paths, or even none at all, between two nodes.\n",
    "- Cycles: Trees cannot have cycles, whereas cycles can be present in graphs.\n",
    "\n",
    "So Fig. 1 is a graph. It has cycles and multiple paths between nodes indicating it is not a tree, trees don't have cycles, and there are unique paths between any two nodes."
   ]
  },
  {
   "cell_type": "markdown",
   "id": "94cbe6ee",
   "metadata": {},
   "source": [
    "#### (ii) Explain in detail how the graph is an abstraction of the problem."
   ]
  },
  {
   "cell_type": "markdown",
   "id": "14cffb29",
   "metadata": {},
   "source": [
    "#### (iii) Identify the advantages of using a visualisation such as the one shown in Fig. 1."
   ]
  },
  {
   "cell_type": "markdown",
   "id": "4642a436",
   "metadata": {},
   "source": [
    "### (b)Demonstrate how Dijkstra’s algorithm would find the shortest path to the solution in Fig.1 through diagrams and written explanation of each stage."
   ]
  },
  {
   "cell_type": "code",
   "execution_count": null,
   "id": "0284f525",
   "metadata": {},
   "outputs": [],
   "source": []
  },
  {
   "cell_type": "markdown",
   "id": "8f7db091",
   "metadata": {},
   "source": [
    "# Question 2\n",
    "The creator of the puzzle has been told that the A* algorithm is more efficient at finding the shortest path because it uses heuristics. Compare the performance of Dijkstra’s algorithm and the A* search algorithm, referring to heuristics, to find the shortest path to the problem by implementing both algorithms programmatically and comparing the solutions generated in Mark-down. Refer to the complexity of the algorithms and compare the actual time it takes for the solutions to be processed."
   ]
  },
  {
   "cell_type": "code",
   "execution_count": null,
   "id": "da2f8263",
   "metadata": {},
   "outputs": [],
   "source": []
  }
 ],
 "metadata": {
  "kernelspec": {
   "display_name": "Python 3 (ipykernel)",
   "language": "python",
   "name": "python3"
  },
  "language_info": {
   "codemirror_mode": {
    "name": "ipython",
    "version": 3
   },
   "file_extension": ".py",
   "mimetype": "text/x-python",
   "name": "python",
   "nbconvert_exporter": "python",
   "pygments_lexer": "ipython3",
   "version": "3.9.7"
  }
 },
 "nbformat": 4,
 "nbformat_minor": 5
}
