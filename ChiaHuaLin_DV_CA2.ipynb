{
 "cells": [
  {
   "cell_type": "markdown",
   "id": "41dfc9f7",
   "metadata": {},
   "source": [
    "**<font size=5> Module Title: Artificial Intelligence </font>**\n",
    "\n",
    "**<font size=5> Assessment Title: Individual CA2 </font>**\n",
    "\n",
    "**<font size=4> Lecturer Name: David McQuaid </font>**\n",
    "\n",
    "**<font size=4> Student Name: Chia Hua Lin &emsp; &emsp; ID: 2020044 </font>**"
   ]
  },
  {
   "cell_type": "markdown",
   "id": "cafe8e1e",
   "metadata": {},
   "source": [
    "# Question 1\n",
    "A puzzle has multiple ways of reaching the end solution. Fig. 1 shows a graph that represents all possible routes to the solution. The starting point of the game is represented by A, the solution is represented by S. The other points in the graph are possible intermediary stages."
   ]
  },
  {
   "cell_type": "code",
   "execution_count": 1,
   "id": "f0769055",
   "metadata": {},
   "outputs": [
    {
     "data": {
      "text/html": [
       "<img src=\"https://github.com/Awa25/AI-DV_CA2/blob/main/qqimg.png?raw=true\" width=\"500\"/>"
      ],
      "text/plain": [
       "<IPython.core.display.Image object>"
      ]
     },
     "execution_count": 1,
     "metadata": {},
     "output_type": "execute_result"
    }
   ],
   "source": [
    "from IPython.display import Image\n",
    "from IPython.core.display import HTML \n",
    "Image(url= \"https://github.com/Awa25/AI-DV_CA2/blob/main/qqimg.png?raw=true\", width=500)"
   ]
  },
  {
   "cell_type": "markdown",
   "id": "7535b5fe",
   "metadata": {},
   "source": [
    "## (a) The graph in Fig. 1 is a visualisation of the problem."
   ]
  },
  {
   "cell_type": "markdown",
   "id": "06d9e2c9",
   "metadata": {},
   "source": [
    "### (i) Identify the differences between a graph and a tree\n",
    "- Definition: A tree is a special type of graph. A tree is an undirected graph in which any two nodes are connected by exactly one path, and there are no cycles. A graph, in contrast, can have any number of paths connecting nodes and can include cycles.\n",
    "- Nodes and Edges: In a tree, the number of edges is always one less than the number of nodes. In a generic graph, there can be any number of edges.\n",
    "- Root: Trees typically have a specific node called the \"root\" from which hierarchical structures descend. Graphs do not have a designated root.\n",
    "- Path: In a tree, there's exactly one unique path between any two nodes. In a graph, there can be multiple paths, or even none at all, between two nodes.\n",
    "- Cycles: Trees cannot have cycles, whereas cycles can be present in graphs.\n",
    "\n",
    "So Fig. 1 is a graph. It has cycles and multiple paths between nodes indicating it is not a tree, trees don't have cycles, and there are unique paths between any two nodes."
   ]
  },
  {
   "cell_type": "markdown",
   "id": "94cbe6ee",
   "metadata": {},
   "source": [
    "### (ii) Explain in detail how the graph is an abstraction of the problem.\n",
    "\n",
    "The graph in Fig. 1 is an abstraction because it simplifies and represents the problem in terms of nodes and edges. Here's how:\n",
    "- Nodes as Stages: Each node represents a stage or state in the puzzle, allowing the problem solver to visualize the distinct positions or configurations they might encounter.\n",
    "- Edges as Transitions: The edges between nodes signify the possible transitions or actions one can take to move from one stage to another. The weights on these edges may represent costs, distances, or any measurable quantity of making that transition.\n",
    "- Start and End: The starting point (A) and the solution (S) are clearly marked, giving a clear directionality to the problem.\n",
    "- Multiple Routes: The graph highlights that there are multiple paths to reach from the start to the solution. This mirrors real-world problems where there might be more than one solution or approach.\n",
    "- Abstracting Complexity: The actual intricacies, rules, or details of the puzzle might be complex. However, the graph represents them merely as paths and junctions, making it easier to analyze and solve."
   ]
  },
  {
   "cell_type": "markdown",
   "id": "14cffb29",
   "metadata": {},
   "source": [
    "### (iii) Identify the advantages of using a visualisation such as the one shown in Fig. 1.\n",
    "- Clarity: Visual representations provide a clear picture of the problem, helping in better understanding and interpretation.\n",
    "- Identifying Possibilities: By looking at the graph, one can immediately see possible routes and paths.\n",
    "- Problem Solving: Visuals can assist in employing algorithms or heuristics to find solutions.\n",
    "- Comparing Routes: By visualizing, it becomes easier to compare different routes in terms of their lengths or costs.\n",
    "- Communication: Visual representations like graphs can be easily shared and discussed among teams, making collaborative problem-solving more efficient."
   ]
  },
  {
   "cell_type": "markdown",
   "id": "4642a436",
   "metadata": {},
   "source": [
    "## (b)Demonstrate how Dijkstra’s algorithm would find the shortest path to the solution in Fig.1 through diagrams and written explanation of each stage."
   ]
  },
  {
   "cell_type": "code",
   "execution_count": 2,
   "id": "0284f525",
   "metadata": {},
   "outputs": [],
   "source": [
    "# Import necessary libraries\n",
    "import heapq  # Import the heapq module for heap-based data structures\n",
    "import matplotlib.pyplot as plt  # Import Matplotlib for plotting graphs\n",
    "import networkx as nx  # Import NetworkX, a library for working with networks and graphs\n",
    "import timeit         # Import the timeit library for measuring code execution time."
   ]
  },
  {
   "cell_type": "code",
   "execution_count": 3,
   "id": "38337a76",
   "metadata": {},
   "outputs": [
    {
     "data": {
      "text/plain": [
       "{'A': [('B', 1), ('C', 5), ('H', 2)],\n",
       " 'B': [('A', 1), ('C', 2), ('D', 4)],\n",
       " 'C': [('A', 5), ('B', 2), ('G', 1)],\n",
       " 'D': [('B', 4), ('E', 4), ('F', 7), ('L', 7)],\n",
       " 'E': [('D', 4), ('F', 3), ('W', 6)],\n",
       " 'F': [('D', 7), ('E', 3), ('G', 2)],\n",
       " 'G': [('C', 1), ('F', 2), ('L', 3)],\n",
       " 'H': [('A', 2), ('K', 5), ('J', 9)],\n",
       " 'J': [('H', 9), ('N', 6), ('K', 3)],\n",
       " 'K': [('H', 5), ('J', 3), ('L', 5)],\n",
       " 'L': [('K', 5), ('G', 3), ('D', 7), ('N', 3), ('M', 4), ('W', 8), ('V', 10)],\n",
       " 'M': [('L', 4), ('P', 2), ('Q', 10)],\n",
       " 'N': [('J', 6), ('L', 3), ('P', 4), ('S', 7)],\n",
       " 'P': [('N', 4), ('M', 2), ('R', 5)],\n",
       " 'Q': [('M', 10), ('W', 4), ('S', 8)],\n",
       " 'R': [('P', 5), ('T', 3), ('S', 4)],\n",
       " 'S': [('Q', 8), ('R', 4), ('N', 7), ('U', 2), ('V', 6), ('T', 4)],\n",
       " 'T': [('R', 3), ('S', 4), ('U', 1)],\n",
       " 'U': [('T', 1), ('S', 2), ('V', 3)],\n",
       " 'V': [('U', 3), ('S', 6), ('L', 10)],\n",
       " 'W': [('V', 5), ('L', 8), ('Q', 4), ('E', 6)]}"
      ]
     },
     "execution_count": 3,
     "metadata": {},
     "output_type": "execute_result"
    }
   ],
   "source": [
    "# Define the graph as a list of tuples with the given data\n",
    "data = [\n",
    "    (\"A\", \"B\", 1), (\"A\", \"C\", 5), (\"A\", \"H\", 2),\n",
    "    (\"B\", \"A\", 1), (\"B\", \"C\", 2), (\"B\", \"D\", 4),\n",
    "    (\"C\", \"A\", 5), (\"C\", \"B\", 2), (\"C\", \"G\", 1),\n",
    "    (\"D\", \"B\", 4), (\"D\", \"E\", 4), (\"D\", \"F\", 7), (\"D\", \"L\", 7),\n",
    "    (\"E\", \"D\", 4), (\"E\", \"F\", 3), (\"E\", \"W\", 6),\n",
    "    (\"F\", \"D\", 7), (\"F\", \"E\", 3), (\"F\", \"G\", 2),\n",
    "    (\"G\", \"C\", 1), (\"G\", \"F\", 2), (\"G\", \"L\", 3),\n",
    "    (\"H\", \"A\", 2), (\"H\", \"K\", 5), (\"H\", \"J\", 9),\n",
    "    (\"J\", \"H\", 9), (\"J\", \"N\", 6), (\"J\", \"K\", 3),\n",
    "    (\"K\", \"H\", 5), (\"K\", \"J\", 3), (\"K\", \"L\", 5),\n",
    "    (\"L\", \"K\", 5), (\"L\", \"G\", 3), (\"L\", \"D\", 7), (\"L\", \"N\", 3), (\"L\", \"M\", 4), (\"L\", \"W\", 8), (\"L\", \"V\", 10),\n",
    "    (\"M\", \"L\", 4), (\"M\", \"P\", 2), (\"M\", \"Q\", 10),\n",
    "    (\"N\", \"J\", 6), (\"N\", \"L\", 3), (\"N\", \"P\", 4), (\"N\", \"S\", 7),\n",
    "    (\"P\", \"N\", 4), (\"P\", \"M\", 2), (\"P\", \"R\", 5),\n",
    "    (\"Q\", \"M\", 10), (\"Q\", \"W\", 4), (\"Q\", \"S\", 8),\n",
    "    (\"R\", \"P\", 5), (\"R\", \"T\", 3), (\"R\", \"S\", 4),\n",
    "    (\"S\", \"Q\", 8), (\"S\", \"R\", 4), (\"S\", \"N\", 7), (\"S\", \"U\", 2), (\"S\", \"V\", 6), (\"S\", \"T\", 4),\n",
    "    (\"T\", \"R\", 3), (\"T\", \"S\", 4), (\"T\", \"U\", 1),\n",
    "    (\"U\", \"T\", 1), (\"U\", \"S\", 2), (\"U\", \"V\", 3),\n",
    "    (\"V\", \"U\", 3), (\"V\", \"S\", 6), (\"V\", \"L\", 10),\n",
    "    (\"W\", \"V\", 5), (\"W\", \"L\", 8), (\"W\", \"Q\", 4), (\"W\", \"E\", 6)\n",
    "]\n",
    "\n",
    "# Initialize an empty dictionary to store the graph\n",
    "graph = {}\n",
    "\n",
    "# Iterate over the list of tuples and populate the graph dictionary\n",
    "for node1, node2, cost in data:\n",
    "    if node1 not in graph:\n",
    "        graph[node1] = []\n",
    "    graph[node1].append((node2, cost))\n",
    "\n",
    "# Display the graph data\n",
    "graph"
   ]
  },
  {
   "cell_type": "code",
   "execution_count": 4,
   "id": "38ecb950",
   "metadata": {},
   "outputs": [],
   "source": [
    "# Fuction to perform Dijkstra's algorithm\n",
    "def dijkstra(graph, start_node):\n",
    "    \n",
    "    # Initialize distances and predecessors for all nodes in the graph\n",
    "    distances = {node: float(\"inf\") for node in graph}\n",
    "    predecessors = {node: None for node in graph}\n",
    "    \n",
    "    # Set the distance from the start_node to itself as 0\n",
    "    distances[start_node] = 0\n",
    "    \n",
    "    # Create a priority queue for nodes to be explored\n",
    "    # It stores tuples of (distance, node)\n",
    "    priority_queue = [(0, start_node)]\n",
    "    \n",
    "    # While there are nodes in the priority queue to explore\n",
    "    while priority_queue:\n",
    "        \n",
    "        # Get the node with the shortest distance from the priority queue\n",
    "        current_distance, current_node = heapq.heappop(priority_queue)\n",
    "        \n",
    "        # Skip this node if it has already been processed with a shorter distance\n",
    "        if current_distance > distances[current_node]:\n",
    "            continue\n",
    "            \n",
    "        # Iterate over neighbors of the current node\n",
    "        for neighbor, weight in graph[current_node]:\n",
    "            \n",
    "            # Calculate the total distance to the neighbor through the current node\n",
    "            distance = current_distance + weight\n",
    "            \n",
    "            # If a shorter path to the neighbor is found, update the distance and predecessor\n",
    "            if distance < distances[neighbor]:\n",
    "                distances[neighbor] = distance\n",
    "                predecessors[neighbor] = current_node\n",
    "                \n",
    "                # Add the neighbor to the priority queue for further exploration\n",
    "                heapq.heappush(priority_queue, (distance, neighbor))\n",
    "                \n",
    "    # Return the final distances and predecessors\n",
    "    return distances, predecessors"
   ]
  },
  {
   "cell_type": "code",
   "execution_count": 5,
   "id": "f9982f2b",
   "metadata": {},
   "outputs": [],
   "source": [
    "# Fuction to calculate the shortest path \n",
    "def shortest_path(graph, start_node, end_node):\n",
    "    \n",
    "    # Find the shortest path using Dijkstra's algorithm and get distances and predecessors\n",
    "    distances, predecessors = dijkstra(graph, start_node)\n",
    "    \n",
    "    # Reconstruct the path form end_node to start_node\n",
    "    path = []\n",
    "    while end_node is not None:\n",
    "        path.insert(0, end_node) # Insert the current node at the beginning of the path \n",
    "        end_node = predecessors[end_node] # Move to the predecessor\n",
    "        \n",
    "    # Return the reconstructed path and distances\n",
    "    return path, distances\n",
    "\n",
    "# Define the starting and ending nodes for the shortest path\n",
    "start_node = \"A\"\n",
    "end_node = \"S\""
   ]
  },
  {
   "cell_type": "code",
   "execution_count": 6,
   "id": "ba510d77",
   "metadata": {},
   "outputs": [
    {
     "data": {
      "text/plain": [
       "(['A', 'B', 'C', 'G', 'L', 'N', 'S'], 17)"
      ]
     },
     "execution_count": 6,
     "metadata": {},
     "output_type": "execute_result"
    }
   ],
   "source": [
    "# Calculate the shortest path and distances\n",
    "path, distances = shortest_path(graph, start_node, end_node)\n",
    "\n",
    "# Display the result\n",
    "path, distances[end_node]"
   ]
  },
  {
   "cell_type": "code",
   "execution_count": 7,
   "id": "bed10dc9",
   "metadata": {},
   "outputs": [
    {
     "data": {
      "image/png": "[encoded data removed]",
      "text/plain": [
       "<Figure size 432x288 with 1 Axes>"
      ]
     },
     "metadata": {},
     "output_type": "display_data"
    }
   ],
   "source": [
    "# Create a NetworkX graph\n",
    "G = nx.Graph()\n",
    "\n",
    "# Add nodes and edges to the graph\n",
    "for node, connections in graph.items():\n",
    "    for neighbor, cost in connections:\n",
    "        G.add_edge(node, neighbor, weight = cost)\n",
    "\n",
    "# Create a layout for the nodes\n",
    "pos = nx.spring_layout(G)\n",
    "\n",
    "# Calculate the shortest path\n",
    "shortest_path_nodes = path  # Get this from your code\n",
    "shortest_path_edges = [(shortest_path_nodes[i], shortest_path_nodes[i + 1]) for i in range(len(shortest_path_nodes) - 1)]\n",
    "\n",
    "# Highlight the shortest path by changing edge color\n",
    "edge_colors = ['b' if edge not in shortest_path_edges else 'r' for edge in G.edges()]\n",
    "\n",
    "# Draw the nodes, edges, and labels\n",
    "nx.draw_networkx_nodes(G, pos)\n",
    "nx.draw_networkx_edges(G, pos, edge_color = edge_colors, width = 2)\n",
    "nx.draw_networkx_labels(G, pos)\n",
    "\n",
    "# Draw the edge labels\n",
    "edge_labels = {(node, neighbor): cost for node, neighbor, cost in G.edges(data = 'weight')}\n",
    "nx.draw_networkx_edge_labels(G, pos, edge_labels = edge_labels)\n",
    "\n",
    "# Show the graph\n",
    "plt.axis('off')\n",
    "plt.title(\"Graph with Shortest Path Highlighted\")\n",
    "plt.show()"
   ]
  },
  {
   "cell_type": "markdown",
   "id": "8f7db091",
   "metadata": {},
   "source": [
    "# Question 2\n",
    "The creator of the puzzle has been told that the A* algorithm is more efficient at finding the shortest path because it uses heuristics. Compare the performance of Dijkstra’s algorithm and the A* search algorithm, referring to heuristics, to find the shortest path to the problem by implementing both algorithms programmatically and comparing the solutions generated in Mark-down. Refer to the complexity of the algorithms and compare the actual time it takes for the solutions to be processed."
   ]
  },
  {
   "cell_type": "code",
   "execution_count": 8,
   "id": "da2f8263",
   "metadata": {},
   "outputs": [],
   "source": [
    "G = nx.Graph()\n",
    "\n",
    "graph = {\n",
    "    'A': {'B': 1, 'C': 5, 'H': 2},\n",
    "    'B': {'C': 2, 'D': 4},\n",
    "    'C': {'G': 1},\n",
    "    'D': {'E': 4, 'F': 7, 'L': 7},\n",
    "    'E': {'W': 6},\n",
    "    'F': {'G': 2},\n",
    "    'G': {'L': 3},\n",
    "    'H': {'K': 5, 'J': 9},\n",
    "    'J': {'N': 6, 'K': 3},\n",
    "    'K': {'L': 5},\n",
    "    'L': {'N': 3, 'M': 4, 'W': 8, 'V': 10},\n",
    "    'M': {'P': 2, 'Q': 10},\n",
    "    'N': {'P': 4, 'S': 7},\n",
    "    'P': {'R': 5},\n",
    "    'Q': {'S': 8},\n",
    "    'R': {'T': 3, 'S': 4},\n",
    "    'S': {'U': 2, 'V': 6, 'T': 4},\n",
    "    'T': {'U': 1},\n",
    "    'U': {'V': 3}\n",
    "}\n",
    "\n",
    "# Iterate through the outer dictionary (source nodes).\n",
    "for source, destinations in graph.items():\n",
    "    \n",
    "    # Iterate through the inner dictionary (destination nodes and weights).\n",
    "    for destination, weight in destinations.items():\n",
    "        \n",
    "        # Add an edge to the graph, converting the weight to a float.\n",
    "        G.add_edge(source, destination, weight=float(weight))"
   ]
  },
  {
   "cell_type": "markdown",
   "id": "7f44951c",
   "metadata": {},
   "source": [
    "# Explanation\n",
    "\n",
    "-`Graph Initialization:` The code starts by creating an empty undirected graph G using the NetworkX library. This graph will represent nodes and edges in the network.\n",
    "\n",
    "-`Graph Data Structure:` The graph dictionary defines the structure of the graph. It's a nested dictionary where the outer keys represent source nodes (e.g., 'A', 'B', etc.), and the associated inner dictionaries represent destination nodes and their corresponding edge weights.\n",
    "\n",
    "-`Nested Loop:` The code uses nested loops to traverse the graph dictionary:\n",
    "\n",
    "1) The outer loop iterates through the source nodes. source represents the source node letter ('A', 'B', etc.).\n",
    "\n",
    "2) The inner loop iterates through the inner dictionary, extracting destination (destination node letter) and weight (the weight of the edge connecting the source and destination nodes).\n",
    "\n",
    "-`Edge Addition:` Within the inner loop, the code adds an edge to the graph G using G.add_edge(). It specifies the source and destination nodes and converts the weight to a floating-point number using float(weight) to ensure it's treated as a numeric value.c value. numeric value."
   ]
  },
  {
   "cell_type": "code",
   "execution_count": 9,
   "id": "1119a7e5",
   "metadata": {},
   "outputs": [],
   "source": [
    "# Specifies the starting node in the graph as 'A'.\n",
    "start_node = 'A'  \n",
    "\n",
    "# Specifies the ending node in the graph as 'S'.\n",
    "end_node = 'S' "
   ]
  },
  {
   "cell_type": "markdown",
   "id": "17cc9502",
   "metadata": {},
   "source": [
    "# Define Start and End Nodes\n",
    "\n",
    "In the provided code, two variables are defined to specify the starting and ending nodes in a graph or network.\n",
    "\n",
    "- `start_node = 'A'`: This variable `start_node` is set to 'A', representing the starting node in the graph. It indicates the node from which a particular operation or search will begin.\n",
    "\n",
    "- `end_node = 'S'`: This variable `end_node` is set to 'S', representing the ending node in the graph. It indicates the destination or target node that you want to reach or find.\n",
    "\n",
    "These variables are typically used in various graph-related operations, such as finding the shortest path between two nodes, network traversal, or any task that involves navigation or routing within a graph or network. In this specific context, 'A' is the starting point, and 'S' is the desired destination."
   ]
  },
  {
   "cell_type": "code",
   "execution_count": 10,
   "id": "c71bc699",
   "metadata": {},
   "outputs": [],
   "source": [
    "# Define a Heuristic Function\n",
    "\n",
    "def alphabet_heuristic(node):\n",
    "    # Assuming the nodes are letters, you can calculate the absolute\n",
    "    # difference in their ASCII values as a heuristic.\n",
    "    return abs(ord(node) - ord(end_node))"
   ]
  },
  {
   "cell_type": "markdown",
   "id": "39515463",
   "metadata": {},
   "source": [
    "# Define a Heuristic Function\n",
    "\n",
    "In this code snippet, a heuristic function named `alphabet_heuristic` is defined. This heuristic function is used in various graph-based algorithms, especially in pathfinding or search algorithms like A* (A-star).\n",
    "\n",
    "- `def alphabet_heuristic(node)`: This line defines the function `alphabet_heuristic`, which takes a single argument `node`. The purpose of this function is to calculate a heuristic value for a given node.\n",
    "\n",
    "- `# Assuming the nodes are letters...`: This comment explains the assumption that the nodes are represented as letters (e.g., 'A', 'B', 'C').\n",
    "\n",
    "- `return abs(ord(node) - ord(end_node))`: This line calculates the heuristic value. It does so by taking the absolute difference between the ASCII values of the given `node` and the `end_node`. The `ord()` function returns the ASCII value of a character, and subtracting the ASCII values provides a simple heuristic based on the alphabetical order of nodes.\n",
    "\n",
    "The heuristic function can be used in algorithms like A* to estimate the cost of reaching the `end_node` from a given `node`. It helps guide the search by prioritizing nodes that are likely to lead to a better path to the goal, potentially improving the efficiency of pathfinding in graphs or networks where the heuristic is admissible (never overestimates the true cost) and consistent (satisfies the triangle inequality)."
   ]
  },
  {
   "cell_type": "code",
   "execution_count": 11,
   "id": "7756bb65",
   "metadata": {},
   "outputs": [],
   "source": [
    "# Implement A* Search Manually\n",
    "\n",
    "def astar_search(graph, start, end, heuristic):\n",
    "    \n",
    "    open_set = []\n",
    "    \n",
    "    # Initialize the priority queue with the start node.\n",
    "    heapq.heappush(open_set, (0, start))\n",
    "    \n",
    "    # Initialize a dictionary to track the path.\n",
    "    came_from = {}  \n",
    "\n",
    "    # Initialize the cost from the start node to each node as infinity.\n",
    "    g_score = {node: float('inf') for node in graph.nodes}  \n",
    "    \n",
    "    # Set the cost from the start node to itself as 0.\n",
    "    g_score[start] = 0  \n",
    "\n",
    "    \n",
    "    while open_set:\n",
    "        \n",
    "        # Select the node with the lowest f_score from the priority queue.\n",
    "        _, current = heapq.heappop(open_set)  \n",
    "\n",
    "        # If the current node is the end node, reconstruct and return the path.\n",
    "        if current == end:  \n",
    "            path = []\n",
    "            while current in came_from:\n",
    "                path.append(current)\n",
    "                current = came_from[current]\n",
    "            path.append(start)\n",
    "            path.reverse()\n",
    "            return path\n",
    "\n",
    "        for neighbor in graph.neighbors(current):\n",
    "            tentative_g_score = g_score[current] + graph[current][neighbor]['weight']\n",
    "\n",
    "            if tentative_g_score < g_score[neighbor]:\n",
    "                came_from[neighbor] = current  # Record the best path to the neighbor.\n",
    "                g_score[neighbor] = tentative_g_score  # Update the cost from the start node to the neighbor.\n",
    "                f_score = tentative_g_score + heuristic(neighbor)\n",
    "                heapq.heappush(open_set, (f_score, neighbor))  # Add the neighbor to the priority queue.\n",
    "\n",
    "    # If the while loop exits and no path is found, return None.\n",
    "    return None"
   ]
  },
  {
   "cell_type": "markdown",
   "id": "d91bb49c",
   "metadata": {},
   "source": [
    "# Implement A* Search Manually\n",
    "\n",
    "The provided code is an implementation of the A* search algorithm, a popular pathfinding algorithm used to find the shortest path between two nodes in a graph. This implementation includes the following components:\n",
    "\n",
    "- `astar_search(graph, start, end, heuristic)`: This function takes four arguments:\n",
    "  - `graph`: The graph in which the search is performed.\n",
    "  - `start`: The starting node for the search.\n",
    "  - `end`: The target node that the search aims to reach.\n",
    "  - `heuristic`: A heuristic function that estimates the cost from a node to the goal node.\n",
    "\n",
    "- `open_set`: A priority queue initialized with a tuple containing the current cost and the starting node. It stores nodes to be explored based on their estimated total cost (`f_score`).\n",
    "\n",
    "- `came_from`: A dictionary that keeps track of the path by mapping each node to its predecessor on the optimal path.\n",
    "\n",
    "- `g_score`: A dictionary initialized with a cost of infinity for each node. It keeps track of the cost from the start node to each node.\n",
    "\n",
    "The A* search algorithm proceeds as follows:\n",
    "\n",
    "1. The algorithm selects the node with the lowest `f_score` from the `open_set` for exploration.\n",
    "2. If the selected node is the goal node (`end`), it reconstructs the path and returns it.\n",
    "3. For each neighbor of the current node, it calculates a tentative `g_score` (the cost of the path from the start node to the neighbor).\n",
    "4. If the tentative `g_score` is lower than the current `g_score` for the neighbor, it updates the `came_from` and `g_score` dictionaries and adds the neighbor to the `open_set` with its `f_score`.\n",
    "5. The process continues until the `open_set` is empty, indicating that no path is found, in which case the function returns `None`.\n",
    "\n",
    "This implementation efficiently explores the graph to find the shortest path using the provided heuristic to guide the search."
   ]
  },
  {
   "cell_type": "code",
   "execution_count": 12,
   "id": "4c4d25c5",
   "metadata": {},
   "outputs": [],
   "source": [
    "# Measure the execution time for Dijkstra's algorithm\n",
    "dijkstra_time = timeit.timeit(\n",
    "    lambda: nx.shortest_path(G, source=start_node, target=end_node, weight='weight'),\n",
    "    number=1\n",
    ")\n",
    "\n",
    "# Measure the execution time for A* algorithm\n",
    "a_star_time = timeit.timeit(\n",
    "    lambda: astar_search(G, start_node, end_node, alphabet_heuristic),\n",
    "    number=1\n",
    ")"
   ]
  },
  {
   "cell_type": "markdown",
   "id": "8c51809e",
   "metadata": {},
   "source": [
    "# Measure Execution Time for Pathfinding Algorithms\n",
    "\n",
    "In this code, the execution time of two pathfinding algorithms, Dijkstra's algorithm and A* algorithm, is measured using the `timeit` library. The purpose is to compare the time it takes to find the shortest path from a start node to an end node in the given graph `G` using these two algorithms.\n",
    "\n",
    "- `dijkstra_time = timeit.timeit(...)`: This line measures the execution time for Dijkstra's algorithm. It uses the `timeit` function to time the execution of the lambda function provided. The lambda function uses `nx.shortest_path` from NetworkX to find the shortest path in the graph. The `number=1` argument indicates that the timing should be done once.\n",
    "\n",
    "- `a_star_time = timeit.timeit(...)`: This line measures the execution time for the A* algorithm. It also uses the `timeit` function to time the execution of the lambda function provided, which calls the `astar_search` function defined earlier with the `alphabet_heuristic`. Similarly, the `number=1` argument means the timing is performed once.\n",
    "\n",
    "The resulting `dijkstra_time` and `a_star_time` variables store the execution times of Dijkstra's algorithm and A* algorithm, respectively. This allows for a performance comparison between the two algorithms in finding the shortest path in the graph."
   ]
  },
  {
   "cell_type": "code",
   "execution_count": 13,
   "id": "7486ce8a",
   "metadata": {},
   "outputs": [
    {
     "name": "stdout",
     "output_type": "stream",
     "text": [
      "Dijkstra's Path: ['A', 'B', 'C', 'G', 'L', 'N', 'S']\n",
      "Dijkstra's Execution Time: 0.000193 seconds\n",
      "A* Path: ['A', 'B', 'C', 'G', 'L', 'N', 'S']\n",
      "A* Execution Time: 0.000163 seconds\n"
     ]
    }
   ],
   "source": [
    "# Print the results\n",
    "\n",
    "# Print the path found by Dijkstra's algorithm and its execution time\n",
    "print(f'Dijkstra\\'s Path: {nx.shortest_path(G, source = start_node, target = end_node, weight = \"weight\")}')\n",
    "print(f'Dijkstra\\'s Execution Time: {dijkstra_time:.6f} seconds')\n",
    "\n",
    "# Print the path found by A* algorithm and its execution time\n",
    "print(f'A* Path: {astar_search(G, start_node, end_node, alphabet_heuristic)}')\n",
    "print(f'A* Execution Time: {a_star_time:.6f} seconds')"
   ]
  },
  {
   "cell_type": "markdown",
   "id": "07981db5",
   "metadata": {},
   "source": [
    "# Print the Results\n",
    "\n",
    "The code provided prints the results of running Dijkstra's algorithm and A* algorithm to find the shortest path in the graph `G`. It displays both the path found and the execution time for each algorithm.\n",
    "\n",
    "- `Dijkstra's Path: ...`: This line prints the path found by Dijkstra's algorithm using `nx.shortest_path`. The `weight=\"weight\"` argument specifies that the algorithm should consider the edge weights when finding the path.\n",
    "\n",
    "- `Dijkstra's Execution Time: ... seconds`: This line prints the execution time of Dijkstra's algorithm measured earlier and stored in the `dijkstra_time` variable.\n",
    "\n",
    "- `A* Path: ...`: This line prints the path found by the A* algorithm using the custom `astar_search` function and the `alphabet_heuristic`.\n",
    "\n",
    "- `A* Execution Time: ... seconds`: This line prints the execution time of the A* algorithm measured earlier and stored in the `a_star_time` variable.\n",
    "\n",
    "The printed results provide information about the paths discovered by each algorithm and the time it took to find them. This allows for a comparison of the algorithms in terms of efficiency and the quality of the paths they produce.\n",
    "\n",
    "# Dijkstra's Algorithm vs. A* Search Algorithm Comparison\n",
    "\n",
    "## Shortest Path Equivalence\n",
    "In this specific instance, both Dijkstra's algorithm and A* search algorithm have returned the same shortest path: `['A', 'B', 'C', 'G', 'L', 'N', 'S']`. This equivalence occurs because the graph and problem instance do not require the use of A*'s heuristic function to find the optimal path. Both algorithms systematically explore the nodes, ensuring that the path with the lowest cost is found.\n",
    "\n",
    "## Performance Comparison\n",
    "While both algorithms have performed equally well in this instance, it's important to note that this is not always the case. The primary distinction between these algorithms lies in the use of heuristics. Dijkstra's algorithm does not use heuristics and exhaustively explores all possible paths from the start node. In contrast, A* uses a heuristic to estimate the remaining cost to reach the goal, which guides the search.\n",
    "\n",
    "## Algorithm Complexity\n",
    "- **Dijkstra's Algorithm**: The time complexity of Dijkstra's algorithm is O((V + E) log V), where V is the number of vertices (nodes), and E is the number of edges in the graph. It guarantees the shortest path but can be computationally expensive, especially in large graphs.\n",
    "- **A* Algorithm**: The worst-case time complexity of A* is the same as Dijkstra's. However, its performance often surpasses Dijkstra's in practice when a good heuristic is available.\n",
    "\n",
    "## The Role of Heuristics\n",
    "The efficiency of A* is closely tied to the quality of the heuristic function used. If a good heuristic is applied, A* can explore significantly fewer nodes compared to Dijkstra's. This is because the heuristic guides the search towards the most promising paths, making A* more efficient.\n",
    "\n",
    "### Admissibility and Consistency of Heuristic\n",
    "For A* to work effectively, the heuristic function should satisfy two important properties:\n",
    "- **Admissibility**: The heuristic should never overestimate the cost to reach the goal. In other words, it should be an optimistic estimate. This property ensures that A* will always find the optimal path.\n",
    "- **Consistency (or Monotonicity)**: The heuristic should satisfy the triangle inequality. This means that the estimated cost from the current node to the goal, through any neighbor, should not be greater than the sum of the estimated cost from the current node to the neighbor and the estimated cost from the neighbor to the goal. A consistent heuristic helps A* work more efficiently.\n",
    "\n",
    "## Graph and Problem Factors\n",
    "The choice between Dijkstra's algorithm and A* should be based on the characteristics of your specific problem and graph. Consider the following factors:\n",
    "- **Heuristic Quality**: The quality of the heuristic plays a crucial role. In some cases, it may be challenging to design an effective heuristic, making Dijkstra's algorithm a safer choice.\n",
    "- **Graph Size**: For very large graphs, the efficiency of A* may be more noticeable, provided a good heuristic is available.\n",
    "- **Graph Structure**: The structure of the graph (e.g., dense or sparse, regular or irregular) can impact algorithm performance.\n",
    "\n",
    "## Evaluation Considerations\n",
    "When choosing between these algorithms, it's important to evaluate them based on your specific use case. Conduct performance tests, assess the quality of the heuristic, and consider the computational resources available.\n",
    "\n",
    "## Conclusion\n",
    "While Dijkstra's algorithm and A* search algorithm found the same shortest path in this specific instance, the choice between the two should be made based on the problem and graph characteristics. A* can provide significant advantages when a good heuristic is available, but Dijkstra's algorithm is a reliable choice when you have no additional information about the problem. The key to making the right choice is understanding the problem, the graph, and the quality of available heuristics."
   ]
  }
 ],
 "metadata": {
  "kernelspec": {
   "display_name": "Python 3 (ipykernel)",
   "language": "python",
   "name": "python3"
  },
  "language_info": {
   "codemirror_mode": {
    "name": "ipython",
    "version": 3
   },
   "file_extension": ".py",
   "mimetype": "text/x-python",
   "name": "python",
   "nbconvert_exporter": "python",
   "pygments_lexer": "ipython3",
   "version": "3.9.7"
  }
 },
 "nbformat": 4,
 "nbformat_minor": 5
}
