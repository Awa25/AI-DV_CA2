{
 "cells": [
  {
   "cell_type": "markdown",
   "id": "cafe8e1e",
   "metadata": {},
   "source": [
    "# Question 1\n",
    "A puzzle has multiple ways of reaching the end solution. Fig. 1 shows a graph that represents all possible routes to the solution. The starting point of the game is represented by A, the solution is represented by S. The other points in the graph are possible intermediary stages."
   ]
  },
  {
   "cell_type": "code",
   "execution_count": 1,
   "id": "f0769055",
   "metadata": {},
   "outputs": [
    {
     "data": {
      "text/html": [
       "<img src=\"https://github.com/Awa25/AI-DV_CA2/blob/main/qqimg.png?raw=true\" width=\"500\"/>"
      ],
      "text/plain": [
       "<IPython.core.display.Image object>"
      ]
     },
     "execution_count": 1,
     "metadata": {},
     "output_type": "execute_result"
    }
   ],
   "source": [
    "from IPython.display import Image\n",
    "from IPython.core.display import HTML \n",
    "Image(url= \"https://github.com/Awa25/AI-DV_CA2/blob/main/qqimg.png?raw=true\", width=500)"
   ]
  },
  {
   "cell_type": "markdown",
   "id": "7535b5fe",
   "metadata": {},
   "source": [
    "### (a) The graph in Fig. 1 is a visualisation of the problem.\n",
    "#### (i) Identify the differences between a graph and a tree\n",
    "- Definition: A tree is a special type of graph. A tree is an undirected graph in which any two nodes are connected by exactly one path, and there are no cycles. A graph, in contrast, can have any number of paths connecting nodes and can include cycles."
   ]
  },
  {
   "cell_type": "code",
   "execution_count": null,
   "id": "708c10ab",
   "metadata": {},
   "outputs": [],
   "source": []
  }
 ],
 "metadata": {
  "kernelspec": {
   "display_name": "Python 3 (ipykernel)",
   "language": "python",
   "name": "python3"
  },
  "language_info": {
   "codemirror_mode": {
    "name": "ipython",
    "version": 3
   },
   "file_extension": ".py",
   "mimetype": "text/x-python",
   "name": "python",
   "nbconvert_exporter": "python",
   "pygments_lexer": "ipython3",
   "version": "3.9.7"
  }
 },
 "nbformat": 4,
 "nbformat_minor": 5
}
